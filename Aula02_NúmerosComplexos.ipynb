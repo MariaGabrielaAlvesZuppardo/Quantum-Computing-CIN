{
  "nbformat": 4,
  "nbformat_minor": 0,
  "metadata": {
    "colab": {
      "provenance": [],
      "authorship_tag": "ABX9TyNGfcwEIwnOMfczVq6fkLL5",
      "include_colab_link": true
    },
    "kernelspec": {
      "name": "python3",
      "display_name": "Python 3"
    },
    "language_info": {
      "name": "python"
    }
  },
  "cells": [
    {
      "cell_type": "markdown",
      "metadata": {
        "id": "view-in-github",
        "colab_type": "text"
      },
      "source": [
        "<a href=\"https://colab.research.google.com/github/MariaGabrielaAlvesZuppardo/Quantum-Computing-CIN/blob/main/Aula02_N%C3%BAmerosComplexos.ipynb\" target=\"_parent\"><img src=\"https://colab.research.google.com/assets/colab-badge.svg\" alt=\"Open In Colab\"/></a>"
      ]
    },
    {
      "cell_type": "markdown",
      "source": [
        "### (1) Programe em Python uma função que recebe um número complexo e imprime o módulo e o conjulgado dele"
      ],
      "metadata": {
        "id": "NY8rP5EWdiQW"
      }
    },
    {
      "cell_type": "code",
      "execution_count": 14,
      "metadata": {
        "id": "lVenZ09eddKd"
      },
      "outputs": [],
      "source": [
        "#Usando a biblioteca cmath (complex math)\n",
        "\n",
        "import cmath"
      ]
    },
    {
      "cell_type": "code",
      "source": [
        "# Entrada do número complexo :\n",
        "\n",
        "print(\"=== CALCULADORA DE NÚMERO COMPLEXO ===\\n\")\n",
        "print(\"Digite o número complexo no formato: a+bj\")"
      ],
      "metadata": {
        "colab": {
          "base_uri": "https://localhost:8080/"
        },
        "id": "vhS5AjO7d5Cp",
        "outputId": "9e2e4df5-0dea-4c91-9cf2-a968ff12e4f2"
      },
      "execution_count": 15,
      "outputs": [
        {
          "output_type": "stream",
          "name": "stdout",
          "text": [
            "=== CALCULADORA DE NÚMERO COMPLEXO ===\n",
            "\n",
            "Digite o número complexo no formato: a+bj\n"
          ]
        }
      ]
    },
    {
      "cell_type": "code",
      "source": [
        "entrada = input (\"Digite o número complexo (ex: 3+4j): \")\n",
        "z = complex(entrada.replace(\" \", \"\"))"
      ],
      "metadata": {
        "colab": {
          "base_uri": "https://localhost:8080/"
        },
        "id": "IroTAU-deIbf",
        "outputId": "699c8140-3735-4ce4-95d9-34e34c149970"
      },
      "execution_count": 16,
      "outputs": [
        {
          "name": "stdout",
          "output_type": "stream",
          "text": [
            "Digite o número complexo (ex: 3+4j): 7+8j\n"
          ]
        }
      ]
    },
    {
      "cell_type": "code",
      "source": [
        "# Calculando o módulo\n",
        "modulo = abs(z)\n",
        "\n",
        "# Calculando o conjugado\n",
        "conjugado = z.conjugate()\n",
        "\n",
        "print(\"\\n\"+\"=\"*50)\n",
        "print(f\"Número complexo: z={z}\")\n",
        "print(\"=\"*50)\n",
        "\n",
        "print(f\"\\nMÓDULO: |z| = {modulo:.4f}\")\n",
        "print(f\"CONJUGADO: z̄ = {conjugado}\")"
      ],
      "metadata": {
        "colab": {
          "base_uri": "https://localhost:8080/"
        },
        "id": "SJx7kGqMfA0g",
        "outputId": "0445c5f0-d706-46d3-ba9c-29430135c703"
      },
      "execution_count": 17,
      "outputs": [
        {
          "output_type": "stream",
          "name": "stdout",
          "text": [
            "\n",
            "==================================================\n",
            "Número complexo: z=(7+8j)\n",
            "==================================================\n",
            "\n",
            "MÓDULO: |z| = 10.6301\n",
            "CONJUGADO: z̄ = (7-8j)\n"
          ]
        }
      ]
    },
    {
      "cell_type": "code",
      "source": [
        "# Explicação adicional\n",
        "print(\"\\n\" + \"-\"*50)\n",
        "print(\"EXPLICAÇÃO:\")\n",
        "print(\"-\"*50)\n",
        "print(f\"Para z = {z.real} + {z.imag}j\")\n",
        "print(f\"\\nMódulo (usando Pitágoras):\")\n",
        "print(f\"|z| = √(a² + b²)\")\n",
        "print(f\"|z| = √({z.real}² + {z.imag}²)\")\n",
        "print(f\"|z| = √({z.real**2} + {z.imag**2})\")\n",
        "print(f\"|z| = √{z.real**2 + z.imag**2}\")\n",
        "print(f\"|z| = {modulo:.4f}\")\n",
        "\n",
        "print(f\"\\nConjugado (inverte o sinal da parte imaginária):\")\n",
        "print(f\"z̄ = {z.real} - ({z.imag})j\")\n",
        "print(f\"z̄ = {conjugado}\")"
      ],
      "metadata": {
        "colab": {
          "base_uri": "https://localhost:8080/"
        },
        "id": "AV4sCEXPt0OT",
        "outputId": "9a58513b-d4bd-4822-9dfe-57379f0448e4"
      },
      "execution_count": 18,
      "outputs": [
        {
          "output_type": "stream",
          "name": "stdout",
          "text": [
            "\n",
            "--------------------------------------------------\n",
            "EXPLICAÇÃO:\n",
            "--------------------------------------------------\n",
            "Para z = 7.0 + 8.0j\n",
            "\n",
            "Módulo (usando Pitágoras):\n",
            "|z| = √(a² + b²)\n",
            "|z| = √(7.0² + 8.0²)\n",
            "|z| = √(49.0 + 64.0)\n",
            "|z| = √113.0\n",
            "|z| = 10.6301\n",
            "\n",
            "Conjugado (inverte o sinal da parte imaginária):\n",
            "z̄ = 7.0 - (8.0)j\n",
            "z̄ = (7-8j)\n"
          ]
        }
      ]
    },
    {
      "cell_type": "code",
      "source": [
        "# Verificação da propriedade: z * z̄ = |z|²\n",
        "produto = z * conjugado\n",
        "print(f\"\\nVERIFICAÇÃO: z × z̄ = |z|²\")\n",
        "print(f\"{z} × {conjugado} = {produto}\")\n",
        "print(f\"|z|² = {modulo**2:.4f}\")\n",
        "print(f\"Conferindo: {produto.real:.4f} ≈ {modulo**2:.4f} ✓\")"
      ],
      "metadata": {
        "colab": {
          "base_uri": "https://localhost:8080/"
        },
        "id": "oA9IlM3Xt3mR",
        "outputId": "0f87d85e-e460-47f1-fa02-a6af6de83647"
      },
      "execution_count": 19,
      "outputs": [
        {
          "output_type": "stream",
          "name": "stdout",
          "text": [
            "\n",
            "VERIFICAÇÃO: z × z̄ = |z|²\n",
            "(7+8j) × (7-8j) = (113+0j)\n",
            "|z|² = 113.0000\n",
            "Conferindo: 113.0000 ≈ 113.0000 ✓\n"
          ]
        }
      ]
    },
    {
      "cell_type": "markdown",
      "source": [
        "### (2) Programe em python uma função que recebe 02 números complexos e imporime o produto, a divisão , a soma e a subtração deles. Não use os operadores aritmétricos da linguagem"
      ],
      "metadata": {
        "id": "04A2FWGlt8Y-"
      }
    },
    {
      "cell_type": "code",
      "source": [
        "import math"
      ],
      "metadata": {
        "id": "YHCPXkXAuLCI"
      },
      "execution_count": 20,
      "outputs": []
    },
    {
      "cell_type": "code",
      "source": [
        "def soma_complexos(z1,z2):\n",
        "  \"\"\"\n",
        "  Soma de complexos: (a+bi) + (c+di) = (a+c) + (b+d)i\n",
        "  \"\"\"\n",
        "\n",
        "  a,b = z1.real, z1.imag\n",
        "  c,d = z2.real, z2.imag\n",
        "\n",
        "  real = a+c\n",
        "  imag = b+d\n",
        "\n",
        "  return complex(a+c, b+d)\n",
        "\n"
      ],
      "metadata": {
        "id": "gz0NKO8muQSV"
      },
      "execution_count": 21,
      "outputs": []
    },
    {
      "cell_type": "code",
      "source": [
        "def subtracao_complexos(z1, z2):\n",
        "    \"\"\"\n",
        "    Subtração de complexos: (a + bi) - (c + di) = (a-c) + (b-d)i\n",
        "    \"\"\"\n",
        "    a, b = z1.real, z1.imag\n",
        "    c, d = z2.real, z2.imag\n",
        "\n",
        "    real = a - c\n",
        "    imag = b - d\n",
        "\n",
        "    return complex(real, imag)\n"
      ],
      "metadata": {
        "id": "Ekq-U6L5us9h"
      },
      "execution_count": 22,
      "outputs": []
    },
    {
      "cell_type": "code",
      "source": [
        "def produto_complexos(z1, z2):\n",
        "    \"\"\"\n",
        "    Produto de complexos: (a + bi)(c + di) = (ac - bd) + (ad + bc)i\n",
        "    Demonstração:\n",
        "    (a + bi)(c + di) = ac + adi + bci + bdi²\n",
        "                     = ac + adi + bci - bd    (pois i² = -1)\n",
        "                     = (ac - bd) + (ad + bc)i\n",
        "    \"\"\"\n",
        "    a, b = z1.real, z1.imag\n",
        "    c, d = z2.real, z2.imag\n",
        "\n",
        "    real = a*c - b*d\n",
        "    imag = a*d + b*c\n",
        "\n",
        "    return complex(real, imag)"
      ],
      "metadata": {
        "id": "LY7aphgOu8Q-"
      },
      "execution_count": 23,
      "outputs": []
    },
    {
      "cell_type": "code",
      "source": [
        "def divisao_complexos(z1, z2):\n",
        "    \"\"\"\n",
        "    Divisão de complexos: (a + bi) / (c + di)\n",
        "\n",
        "    Multiplicamos numerador e denominador pelo conjugado do denominador:\n",
        "\n",
        "    (a + bi) / (c + di) × (c - di) / (c - di)\n",
        "\n",
        "    Numerador: (a + bi)(c - di) = ac - adi + bci - bdi²\n",
        "                                 = ac - adi + bci + bd\n",
        "                                 = (ac + bd) + (bc - ad)i\n",
        "\n",
        "    Denominador: (c + di)(c - di) = c² - cdi + cdi - d²i²\n",
        "                                   = c² - d²(-1)\n",
        "                                   = c² + d²\n",
        "\n",
        "    Resultado: [(ac + bd) + (bc - ad)i] / (c² + d²)\n",
        "             = (ac + bd)/(c² + d²) + (bc - ad)/(c² + d²)i\n",
        "    \"\"\"\n",
        "    a, b = z1.real, z1.imag\n",
        "    c, d = z2.real, z2.imag\n",
        "\n",
        "    # Verifica divisão por zero\n",
        "    if c == 0 and d == 0:\n",
        "        raise ValueError(\"Divisão por zero não é possível!\")\n",
        "\n",
        "    denominador = c*c + d*d\n",
        "    real = (a*c + b*d) / denominador\n",
        "    imag = (b*c - a*d) / denominador\n",
        "\n",
        "    return complex(real, imag)\n"
      ],
      "metadata": {
        "id": "ORSsADAtu-_W"
      },
      "execution_count": 24,
      "outputs": []
    },
    {
      "cell_type": "code",
      "source": [
        "print(\"=\"*60)\n",
        "print(\"OPERAÇÕES COM NÚMEROS COMPLEXOS\")\n",
        "print(\"(Sem usar operadores aritméticos da linguagem)\")\n",
        "print(\"=\"*60)\n",
        "\n",
        "# Entrada dos números complexos\n",
        "print(\"\\nDigite os números complexos no formato: a+bj\")\n",
        "print(\"Exemplos: 3+4j, -2+5j, 6-3j\\n\")\n",
        "\n",
        "z1 = complex(input(\"Digite o primeiro número complexo (z1): \"))\n",
        "z2 = complex(input(\"Digite o segundo número complexo (z2): \"))\n",
        "\n",
        "print(\"\\n\" + \"=\"*60)\n",
        "print(f\"z1 = {z1}\")\n",
        "print(f\"z2 = {z2}\")\n",
        "print(\"=\"*60)"
      ],
      "metadata": {
        "colab": {
          "base_uri": "https://localhost:8080/"
        },
        "id": "ZZPsluzVvBA1",
        "outputId": "0c907b5f-92a6-4bb9-bda2-50f3d529fb16"
      },
      "execution_count": 25,
      "outputs": [
        {
          "output_type": "stream",
          "name": "stdout",
          "text": [
            "============================================================\n",
            "OPERAÇÕES COM NÚMEROS COMPLEXOS\n",
            "(Sem usar operadores aritméticos da linguagem)\n",
            "============================================================\n",
            "\n",
            "Digite os números complexos no formato: a+bj\n",
            "Exemplos: 3+4j, -2+5j, 6-3j\n",
            "\n",
            "Digite o primeiro número complexo (z1): 8\n",
            "Digite o segundo número complexo (z2): 9j\n",
            "\n",
            "============================================================\n",
            "z1 = (8+0j)\n",
            "z2 = 9j\n",
            "============================================================\n"
          ]
        }
      ]
    },
    {
      "cell_type": "code",
      "source": [
        "soma = soma_complexos(z1, z2)\n",
        "subtracao = subtracao_complexos(z1, z2)\n",
        "produto = produto_complexos(z1, z2)\n",
        "\n",
        "try:\n",
        "    divisao = divisao_complexos(z1, z2)\n",
        "    divisao_ok = True\n",
        "except ValueError as e:\n",
        "    divisao_ok = False\n",
        "    erro_divisao = str(e)\n",
        "\n",
        "# Imprime os resultados\n",
        "print(\"\\n📊 RESULTADOS DAS OPERAÇÕES:\")\n",
        "print(\"-\"*60)\n",
        "\n",
        "print(f\"\\n1️⃣  SOMA: z1 + z2\")\n",
        "print(f\"   ({z1.real} + {z1.imag}j) + ({z2.real} + {z2.imag}j)\")\n",
        "print(f\"   = ({z1.real} + {z2.real}) + ({z1.imag} + {z2.imag})j\")\n",
        "print(f\"   = {soma}\")\n",
        "\n",
        "print(f\"\\n2️⃣  SUBTRAÇÃO: z1 - z2\")\n",
        "print(f\"   ({z1.real} + {z1.imag}j) - ({z2.real} + {z2.imag}j)\")\n",
        "print(f\"   = ({z1.real} - {z2.real}) + ({z1.imag} - {z2.imag})j\")\n",
        "print(f\"   = {subtracao}\")\n",
        "\n",
        "print(f\"\\n3️⃣  PRODUTO: z1 × z2\")\n",
        "a, b = z1.real, z1.imag\n",
        "c, d = z2.real, z2.imag\n",
        "print(f\"   ({a} + {b}j) × ({c} + {d}j)\")\n",
        "print(f\"   = ({a}×{c} - {b}×{d}) + ({a}×{d} + {b}×{c})j\")\n",
        "print(f\"   = ({a*c} - {b*d}) + ({a*d} + {b*c})j\")\n",
        "print(f\"   = {produto}\")\n",
        "\n",
        "print(f\"\\n4️⃣  DIVISÃO: z1 ÷ z2\")\n",
        "if divisao_ok:\n",
        "    print(f\"   ({a} + {b}j) ÷ ({c} + {d}j)\")\n",
        "    denom = c*c + d*d\n",
        "    num_real = a*c + b*d\n",
        "    num_imag = b*c - a*d\n",
        "    print(f\"   = [({a}×{c} + {b}×{d}) + ({b}×{c} - {a}×{d})j] ÷ ({c}² + {d}²)\")\n",
        "    print(f\"   = [{num_real} + {num_imag}j] ÷ {denom}\")\n",
        "    print(f\"   = {divisao}\")\n",
        "else:\n",
        "    print(f\"   ERRO: {erro_divisao}\")\n",
        "\n",
        "# Verificação com operadores nativos do Python\n",
        "print(\"\\n\" + \"=\"*60)\n",
        "print(\"✅ VERIFICAÇÃO (usando operadores nativos do Python):\")\n",
        "print(\"=\"*60)\n",
        "print(f\"Soma verificada:      {z1 + z2} ≈ {soma}\")\n",
        "print(f\"Subtração verificada: {z1 - z2} ≈ {subtracao}\")\n",
        "print(f\"Produto verificado:   {z1 * z2} ≈ {produto}\")\n",
        "if divisao_ok:\n",
        "    print(f\"Divisão verificada:   {z1 / z2} ≈ {divisao}\")"
      ],
      "metadata": {
        "colab": {
          "base_uri": "https://localhost:8080/"
        },
        "id": "7glnaV2QvI43",
        "outputId": "6ab37724-a7d4-4c3c-ec16-09af8b161baf"
      },
      "execution_count": 26,
      "outputs": [
        {
          "output_type": "stream",
          "name": "stdout",
          "text": [
            "\n",
            "📊 RESULTADOS DAS OPERAÇÕES:\n",
            "------------------------------------------------------------\n",
            "\n",
            "1️⃣  SOMA: z1 + z2\n",
            "   (8.0 + 0.0j) + (0.0 + 9.0j)\n",
            "   = (8.0 + 0.0) + (0.0 + 9.0)j\n",
            "   = (8+9j)\n",
            "\n",
            "2️⃣  SUBTRAÇÃO: z1 - z2\n",
            "   (8.0 + 0.0j) - (0.0 + 9.0j)\n",
            "   = (8.0 - 0.0) + (0.0 - 9.0)j\n",
            "   = (8-9j)\n",
            "\n",
            "3️⃣  PRODUTO: z1 × z2\n",
            "   (8.0 + 0.0j) × (0.0 + 9.0j)\n",
            "   = (8.0×0.0 - 0.0×9.0) + (8.0×9.0 + 0.0×0.0)j\n",
            "   = (0.0 - 0.0) + (72.0 + 0.0)j\n",
            "   = 72j\n",
            "\n",
            "4️⃣  DIVISÃO: z1 ÷ z2\n",
            "   (8.0 + 0.0j) ÷ (0.0 + 9.0j)\n",
            "   = [(8.0×0.0 + 0.0×9.0) + (0.0×0.0 - 8.0×9.0)j] ÷ (0.0² + 9.0²)\n",
            "   = [0.0 + -72.0j] ÷ 81.0\n",
            "   = -0.8888888888888888j\n",
            "\n",
            "============================================================\n",
            "✅ VERIFICAÇÃO (usando operadores nativos do Python):\n",
            "============================================================\n",
            "Soma verificada:      (8+9j) ≈ (8+9j)\n",
            "Subtração verificada: (8-9j) ≈ (8-9j)\n",
            "Produto verificado:   72j ≈ 72j\n",
            "Divisão verificada:   -0.8888888888888888j ≈ -0.8888888888888888j\n"
          ]
        }
      ]
    }
  ]
}